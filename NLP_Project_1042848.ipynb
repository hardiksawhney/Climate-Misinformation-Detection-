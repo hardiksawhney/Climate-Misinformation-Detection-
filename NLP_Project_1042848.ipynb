{
 "cells": [
  {
   "cell_type": "code",
   "execution_count": 1,
   "metadata": {},
   "outputs": [],
   "source": [
    "import nltk\n",
    "import pandas as pd\n",
    "import numpy as np\n",
    "import json\n",
    "from nltk.tokenize import word_tokenize\n",
    "from nltk.corpus import stopwords\n",
    "from vaderSentiment.vaderSentiment import SentimentIntensityAnalyzer\n",
    "from nltk.tokenize import sent_tokenize"
   ]
  },
  {
   "cell_type": "markdown",
   "metadata": {},
   "source": [
    "# Train Set"
   ]
  },
  {
   "cell_type": "code",
   "execution_count": 2,
   "metadata": {},
   "outputs": [],
   "source": [
    "json_file = open(\"C:/Users/61416/Desktop/project-files/train.json\", \"r\", encoding=\"utf-8\")\n",
    "sh_json= json.load(json_file)\n",
    "json_file.close()"
   ]
  },
  {
   "cell_type": "code",
   "execution_count": 3,
   "metadata": {},
   "outputs": [],
   "source": [
    "json_file_ex = open(\"C:/Users/61416/Desktop/project-files/climate.json\", \"r\", encoding=\"utf-8\")\n",
    "sh_json_ex= json.load(json_file_ex)\n",
    "json_file.close()"
   ]
  },
  {
   "cell_type": "code",
   "execution_count": 4,
   "metadata": {},
   "outputs": [
    {
     "name": "stdout",
     "output_type": "stream",
     "text": [
      "{'text': 'WASHINGTON  —   Congressional Republicans have a new fear when it comes to their    health care lawsuit against the Obama administration: They might win. The incoming Trump administration could choose to no longer defend the executive branch against the suit, which challenges the administration’s authority to spend billions of dollars on health insurance subsidies for   and   Americans, handing House Republicans a big victory on    issues. But a sudden loss of the disputed subsidies could conceivably cause the health care program to implode, leaving millions of people without access to health insurance before Republicans have prepared a replacement. That could lead to chaos in the insurance market and spur a political backlash just as Republicans gain full control of the government. To stave off that outcome, Republicans could find themselves in the awkward position of appropriating huge sums to temporarily prop up the Obama health care law, angering conservative voters who have been demanding an end to the law for years. In another twist, Donald J. Trump’s administration, worried about preserving executive branch prerogatives, could choose to fight its Republican allies in the House on some central questions in the dispute. Eager to avoid an ugly political pileup, Republicans on Capitol Hill and the Trump transition team are gaming out how to handle the lawsuit, which, after the election, has been put in limbo until at least late February by the United States Court of Appeals for the District of Columbia Circuit. They are not yet ready to divulge their strategy. “Given that this pending litigation involves the Obama administration and Congress, it would be inappropriate to comment,” said Phillip J. Blando, a spokesman for the Trump transition effort. “Upon taking office, the Trump administration will evaluate this case and all related aspects of the Affordable Care Act. ” In a potentially   decision in 2015, Judge Rosemary M. Collyer ruled that House Republicans had the standing to sue the executive branch over a spending dispute and that the Obama administration had been distributing the health insurance subsidies, in violation of the Constitution, without approval from Congress. The Justice Department, confident that Judge Collyer’s decision would be reversed, quickly appealed, and the subsidies have remained in place during the appeal. In successfully seeking a temporary halt in the proceedings after Mr. Trump won, House Republicans last month told the court that they “and the  ’s transition team currently are discussing potential options for resolution of this matter, to take effect after the  ’s inauguration on Jan. 20, 2017. ” The suspension of the case, House lawyers said, will “provide the   and his future administration time to consider whether to continue prosecuting or to otherwise resolve this appeal. ” Republican leadership officials in the House acknowledge the possibility of “cascading effects” if the   payments, which have totaled an estimated $13 billion, are suddenly stopped. Insurers that receive the subsidies in exchange for paying    costs such as deductibles and   for eligible consumers could race to drop coverage since they would be losing money. Over all, the loss of the subsidies could destabilize the entire program and cause a lack of confidence that leads other insurers to seek a quick exit as well. Anticipating that the Trump administration might not be inclined to mount a vigorous fight against the House Republicans given the  ’s dim view of the health care law, a team of lawyers this month sought to intervene in the case on behalf of two participants in the health care program. In their request, the lawyers predicted that a deal between House Republicans and the new administration to dismiss or settle the case “will produce devastating consequences for the individuals who receive these reductions, as well as for the nation’s health insurance and health care systems generally. ” No matter what happens, House Republicans say, they want to prevail on two overarching concepts: the congressional power of the purse, and the right of Congress to sue the executive branch if it violates the Constitution regarding that spending power. House Republicans contend that Congress never appropriated the money for the subsidies, as required by the Constitution. In the suit, which was initially championed by John A. Boehner, the House speaker at the time, and later in House committee reports, Republicans asserted that the administration, desperate for the funding, had required the Treasury Department to provide it despite widespread internal skepticism that the spending was proper. The White House said that the spending was a permanent part of the law passed in 2010, and that no annual appropriation was required  —   even though the administration initially sought one. Just as important to House Republicans, Judge Collyer found that Congress had the standing to sue the White House on this issue  —   a ruling that many legal experts said was flawed  —   and they want that precedent to be set to restore congressional leverage over the executive branch. But on spending power and standing, the Trump administration may come under pressure from advocates of presidential authority to fight the House no matter their shared views on health care, since those precedents could have broad repercussions. It is a complicated set of dynamics illustrating how a quick legal victory for the House in the Trump era might come with costs that Republicans never anticipated when they took on the Obama White House.', 'label': 0}\n",
      "WASHINGTON  —   Congressional Republicans have a new fear when it comes to their    health care lawsuit against the Obama administration: They might win. The incoming Trump administration could choose to no longer defend the executive branch against the suit, which challenges the administration’s authority to spend billions of dollars on health insurance subsidies for   and   Americans, handing House Republicans a big victory on    issues. But a sudden loss of the disputed subsidies could conceivably cause the health care program to implode, leaving millions of people without access to health insurance before Republicans have prepared a replacement. That could lead to chaos in the insurance market and spur a political backlash just as Republicans gain full control of the government. To stave off that outcome, Republicans could find themselves in the awkward position of appropriating huge sums to temporarily prop up the Obama health care law, angering conservative voters who have been demanding an end to the law for years. In another twist, Donald J. Trump’s administration, worried about preserving executive branch prerogatives, could choose to fight its Republican allies in the House on some central questions in the dispute. Eager to avoid an ugly political pileup, Republicans on Capitol Hill and the Trump transition team are gaming out how to handle the lawsuit, which, after the election, has been put in limbo until at least late February by the United States Court of Appeals for the District of Columbia Circuit. They are not yet ready to divulge their strategy. “Given that this pending litigation involves the Obama administration and Congress, it would be inappropriate to comment,” said Phillip J. Blando, a spokesman for the Trump transition effort. “Upon taking office, the Trump administration will evaluate this case and all related aspects of the Affordable Care Act. ” In a potentially   decision in 2015, Judge Rosemary M. Collyer ruled that House Republicans had the standing to sue the executive branch over a spending dispute and that the Obama administration had been distributing the health insurance subsidies, in violation of the Constitution, without approval from Congress. The Justice Department, confident that Judge Collyer’s decision would be reversed, quickly appealed, and the subsidies have remained in place during the appeal. In successfully seeking a temporary halt in the proceedings after Mr. Trump won, House Republicans last month told the court that they “and the  ’s transition team currently are discussing potential options for resolution of this matter, to take effect after the  ’s inauguration on Jan. 20, 2017. ” The suspension of the case, House lawyers said, will “provide the   and his future administration time to consider whether to continue prosecuting or to otherwise resolve this appeal. ” Republican leadership officials in the House acknowledge the possibility of “cascading effects” if the   payments, which have totaled an estimated $13 billion, are suddenly stopped. Insurers that receive the subsidies in exchange for paying    costs such as deductibles and   for eligible consumers could race to drop coverage since they would be losing money. Over all, the loss of the subsidies could destabilize the entire program and cause a lack of confidence that leads other insurers to seek a quick exit as well. Anticipating that the Trump administration might not be inclined to mount a vigorous fight against the House Republicans given the  ’s dim view of the health care law, a team of lawyers this month sought to intervene in the case on behalf of two participants in the health care program. In their request, the lawyers predicted that a deal between House Republicans and the new administration to dismiss or settle the case “will produce devastating consequences for the individuals who receive these reductions, as well as for the nation’s health insurance and health care systems generally. ” No matter what happens, House Republicans say, they want to prevail on two overarching concepts: the congressional power of the purse, and the right of Congress to sue the executive branch if it violates the Constitution regarding that spending power. House Republicans contend that Congress never appropriated the money for the subsidies, as required by the Constitution. In the suit, which was initially championed by John A. Boehner, the House speaker at the time, and later in House committee reports, Republicans asserted that the administration, desperate for the funding, had required the Treasury Department to provide it despite widespread internal skepticism that the spending was proper. The White House said that the spending was a permanent part of the law passed in 2010, and that no annual appropriation was required  —   even though the administration initially sought one. Just as important to House Republicans, Judge Collyer found that Congress had the standing to sue the White House on this issue  —   a ruling that many legal experts said was flawed  —   and they want that precedent to be set to restore congressional leverage over the executive branch. But on spending power and standing, the Trump administration may come under pressure from advocates of presidential authority to fight the House no matter their shared views on health care, since those precedents could have broad repercussions. It is a complicated set of dynamics illustrating how a quick legal victory for the House in the Trump era might come with costs that Republicans never anticipated when they took on the Obama White House.\n",
      "0\n"
     ]
    }
   ],
   "source": [
    "dic_ex=[]\n",
    "for i in sh_json_ex:\n",
    "    dic_ex.append(i)\n",
    "print(dic_ex[0])\n",
    "final_ex=[]\n",
    "label_ex=[]\n",
    "for i in range(len(dic_ex)):\n",
    "    final_ex.append(dic_ex[i][\"text\"])\n",
    "    label_ex.append(dic_ex[i][\"label\"])\n",
    "print(final_ex[0])\n",
    "print(label_ex[0])"
   ]
  },
  {
   "cell_type": "code",
   "execution_count": 5,
   "metadata": {},
   "outputs": [
    {
     "name": "stdout",
     "output_type": "stream",
     "text": [
      "{'text': 'why houston flooding isn‘t a sign of climate change\\nDistinguished US climate scientist, Dr Roy Spencer writes: \"In the context of climate change, is what we are seeing in Houston a new level of disaster which is becoming more common? The flood disaster unfolding in Houston is certainly very unusual. But so are other natural weather disasters, which have always occurred and always will occur....Major floods are difficult to compare throughout history because of the ways we alter the landscape., For example, as cities like Houston expand over the years, soil is covered up by roads, parking lots and buidings, with water rapidly draining off rather than soaking into the soil. The population of Houston is now ten times what is was in the 1920s. \\xa0The Houston metroplex has expanded greatly and the water drainage is basically in the direction of downtown Houston.\"', 'label': 1}\n",
      "why houston flooding isn‘t a sign of climate change\n",
      "Distinguished US climate scientist, Dr Roy Spencer writes: \"In the context of climate change, is what we are seeing in Houston a new level of disaster which is becoming more common? The flood disaster unfolding in Houston is certainly very unusual. But so are other natural weather disasters, which have always occurred and always will occur....Major floods are difficult to compare throughout history because of the ways we alter the landscape., For example, as cities like Houston expand over the years, soil is covered up by roads, parking lots and buidings, with water rapidly draining off rather than soaking into the soil. The population of Houston is now ten times what is was in the 1920s.  The Houston metroplex has expanded greatly and the water drainage is basically in the direction of downtown Houston.\"\n",
      "1\n"
     ]
    }
   ],
   "source": [
    "dic_in=[]\n",
    "for i in sh_json:\n",
    "    dic_in.append(sh_json[i])\n",
    "print(dic_in[0])\n",
    "final_in=[]\n",
    "label_in=[]\n",
    "for i in range(len(dic_in)):\n",
    "    final_in.append(dic_in[i][\"text\"])\n",
    "    label_in.append(dic_in[i][\"label\"])\n",
    "print(final_in[0])\n",
    "print(label_in[0])"
   ]
  },
  {
   "cell_type": "code",
   "execution_count": 6,
   "metadata": {},
   "outputs": [],
   "source": [
    "final=[]\n",
    "label=[]\n",
    "final=final_in+final_ex\n",
    "label=label_in+label_ex"
   ]
  },
  {
   "cell_type": "code",
   "execution_count": 7,
   "metadata": {},
   "outputs": [
    {
     "name": "stdout",
     "output_type": "stream",
     "text": [
      "1510\n",
      "1510\n"
     ]
    }
   ],
   "source": [
    "print(len(label))\n",
    "print(len(final))"
   ]
  },
  {
   "cell_type": "code",
   "execution_count": 8,
   "metadata": {},
   "outputs": [],
   "source": [
    "final_lower=[]\n",
    "for i in final:\n",
    "    final_lower.append(i.lower())\n",
    "\n"
   ]
  },
  {
   "cell_type": "code",
   "execution_count": 9,
   "metadata": {},
   "outputs": [],
   "source": [
    "import string\n",
    "final_lower_filtered=[]\n",
    "for i in range(len(final_lower)):\n",
    "    a=nltk.word_tokenize(final_lower[i])\n",
    "    words = [word for word in a if word.isalpha()]\n",
    "    st=\" \".join(words)\n",
    "    final_lower_filtered.append(st)"
   ]
  },
  {
   "cell_type": "code",
   "execution_count": 10,
   "metadata": {},
   "outputs": [],
   "source": [
    "import spacy\n",
    "import en_core_web_sm\n",
    "nlp = en_core_web_sm.load()\n",
    "lem=[]\n",
    "for i in final_lower_filtered:\n",
    "    k=[]\n",
    "    sentence7 = nlp(i)\n",
    "    for word in sentence7:\n",
    "        k.append(word.lemma_.lower().strip() if word.lemma_ != \"-PRON-\" else word.lower_)\n",
    "    z=\" \".join(k)\n",
    "    lem.append(z)"
   ]
  },
  {
   "cell_type": "code",
   "execution_count": 11,
   "metadata": {},
   "outputs": [
    {
     "name": "stdout",
     "output_type": "stream",
     "text": [
      "why houston flooding isn t a sign of climate change distinguish us climate scientist dr roy spencer write in the context of climate change be what we be see in houston a new level of disaster which be become more common the flood disaster unfold in houston be certainly very unusual but so be other natural weather disaster which have always occur and always will occur flood be difficult to compare throughout history because of the way we alter the for example as city like houston expand over the year soil be cover up by road parking lot and buiding with water rapidly drain off rather than soak into the soil the population of houston be now ten time what be be in the the houston metroplex have expand greatly and the water drainage be basically in the direction of downtown houston\n"
     ]
    }
   ],
   "source": [
    "print(lem[0])"
   ]
  },
  {
   "cell_type": "code",
   "execution_count": 12,
   "metadata": {},
   "outputs": [
    {
     "name": "stdout",
     "output_type": "stream",
     "text": [
      "1510\n"
     ]
    }
   ],
   "source": [
    "modals = ['can', 'could', 'may', 'might', 'must', 'will', 'would', 'should',\"couldn't\",'could not','occasionally','possibly','perhaps','rarely','sometimes', 'unsure', 'often', 'likely', 'usually' ,'definitely ','regularly' ,'frequent', 'frequently','all'\n",
    ",'enough','many','little','few','several','major','majorly','greatly','great','number','none','No','some','more','most','lots','less','least',\n",
    "'any','plenty','study','shows','show','fears','fear','theory','worse','worst','fails','fail']\n",
    "modals_train=[]\n",
    "for i in range(len(lem)):\n",
    "    count=0\n",
    "    a=nltk.word_tokenize(lem[i])\n",
    "    for i in a:\n",
    "        if (i.lower() in modals):\n",
    "            count+=1\n",
    "    modals_train.append(count)\n",
    "print(len(modals_train))\n"
   ]
  },
  {
   "cell_type": "code",
   "execution_count": 13,
   "metadata": {},
   "outputs": [
    {
     "name": "stdout",
     "output_type": "stream",
     "text": [
      "5\n"
     ]
    }
   ],
   "source": [
    "c=[\"climate\",\"weather\",\"fire\",\"floods\",\"temprature\",\"warming\",\"rain\",\"melt\",\"melting\"]\n",
    "climate_train=[]\n",
    "for i in range(len(final_lower)):\n",
    "    count=0\n",
    "    a=nltk.word_tokenize(final_lower[i])\n",
    "    for i in a:\n",
    "        if (i.lower() in c):\n",
    "            count+=1\n",
    "    climate_train.append(count)\n",
    "print((climate_train[0]))"
   ]
  },
  {
   "cell_type": "code",
   "execution_count": 14,
   "metadata": {},
   "outputs": [],
   "source": [
    "c=['?','!','\"']\n",
    "punct=[]\n",
    "for i in range(len(final_lower)):\n",
    "    count=0\n",
    "    a=nltk.word_tokenize(final_lower[i])\n",
    "    for i in a:\n",
    "        if (i.lower() in c):\n",
    "            count+=1\n",
    "    punct.append(count)\n"
   ]
  },
  {
   "cell_type": "code",
   "execution_count": 15,
   "metadata": {},
   "outputs": [],
   "source": [
    "from sklearn.feature_extraction.text import TfidfVectorizer\n",
    "from sklearn.feature_extraction.text import HashingVectorizer\n",
    "from sklearn.feature_extraction.text import CountVectorizer\n",
    "vectorizer = CountVectorizer(max_df=0.95,min_df=3,stop_words='english',ngram_range=(3,3))\n",
    "vector=vectorizer.fit_transform(lem)"
   ]
  },
  {
   "cell_type": "code",
   "execution_count": 16,
   "metadata": {},
   "outputs": [
    {
     "data": {
      "text/plain": [
       "(1510, 5968)"
      ]
     },
     "execution_count": 16,
     "metadata": {},
     "output_type": "execute_result"
    }
   ],
   "source": [
    "vector.shape"
   ]
  },
  {
   "cell_type": "code",
   "execution_count": 17,
   "metadata": {},
   "outputs": [
    {
     "name": "stdout",
     "output_type": "stream",
     "text": [
      "5968\n"
     ]
    }
   ],
   "source": [
    "z=vector.todense()\n",
    "g=z.tolist()\n",
    "print(len(g[0]))\n",
    "for i in range(len(modals_train)):\n",
    "    g[i].append(modals_train[i])\n",
    "    g[i].append(climate_train[i])\n",
    "    g[i].append(punct[i])"
   ]
  },
  {
   "cell_type": "code",
   "execution_count": 18,
   "metadata": {},
   "outputs": [
    {
     "data": {
      "text/plain": [
       "(1510, 5971)"
      ]
     },
     "execution_count": 18,
     "metadata": {},
     "output_type": "execute_result"
    }
   ],
   "source": [
    "import scipy\n",
    "final_vector=scipy.sparse.csr_matrix(g)\n",
    "final_vector.shape"
   ]
  },
  {
   "cell_type": "markdown",
   "metadata": {},
   "source": [
    "# Models "
   ]
  },
  {
   "cell_type": "code",
   "execution_count": 19,
   "metadata": {},
   "outputs": [
    {
     "name": "stderr",
     "output_type": "stream",
     "text": [
      "C:\\Users\\61416\\Anaconda3\\lib\\site-packages\\sklearn\\linear_model\\_stochastic_gradient.py:557: ConvergenceWarning: Maximum number of iteration reached before convergence. Consider increasing max_iter to improve the fit.\n",
      "  ConvergenceWarning)\n"
     ]
    },
    {
     "data": {
      "text/plain": [
       "SGDClassifier(alpha=0.001, average=False, class_weight=None,\n",
       "              early_stopping=False, epsilon=0.1, eta0=0.0, fit_intercept=True,\n",
       "              l1_ratio=0.15, learning_rate='optimal', loss='modified_huber',\n",
       "              max_iter=5, n_iter_no_change=5, n_jobs=None, penalty='l2',\n",
       "              power_t=0.5, random_state=100, shuffle=True, tol=0.001,\n",
       "              validation_fraction=0.1, verbose=0, warm_start=False)"
      ]
     },
     "execution_count": 19,
     "metadata": {},
     "output_type": "execute_result"
    }
   ],
   "source": [
    "from sklearn.linear_model import SGDClassifier\n",
    "clf = SGDClassifier(alpha=0.001,loss=\"modified_huber\", penalty=\"l2\", max_iter=5,random_state=100)\n",
    "clf.fit(final_vector,label)"
   ]
  },
  {
   "cell_type": "markdown",
   "metadata": {},
   "source": [
    "# Dev Set"
   ]
  },
  {
   "cell_type": "code",
   "execution_count": 20,
   "metadata": {},
   "outputs": [
    {
     "name": "stdout",
     "output_type": "stream",
     "text": [
      "{'text': 'Morrison a ‘predatory’ centrist on climate policy with no plans for meaningful emissions reduction, says Swan\\nLabor’s federal president Wayne Swan will accuse Scott Morrison of engaging in “predatory centrism” on climate policy by styling himself as the pragmatist between the extremes of climate emergencies and denialism, when the government has no intention of driving meaningful emissions reduction.\\nIn a speech to be delivered on Sunday, Swan will argue Labor will only win the decade-long climate wars if it approaches the challenge with “pragmatic policy and ruthless organisation”.\\nAccording to speech notes, Swan will say Labor needs to articulate a roadmap for the domestic coal powered industry “which manages its decline”.\\n“There must be a strong dialogue between government, industry, and the unions, and operate on the principle that no one gets left behind. We have to work closely with coal-dependent regions and put in a plan so that everyone gets a good future.”\\nSwan will also warn his former parliamentary colleagues to apply “large doses of healthy scepticism about the hand-on-heart last minute conversion of the Business Council of Australia to the cause”. The BCA criticised Labor policy at the last federal election, but has recently backed a legislated target of net zero emissions by 2050, which aligns with the policy outlined on February 20 by Anthony Albanese.\\nSwan will say Labor is a party that accepts the science of climate change, supports blue-collar jobs, and has sought a way forward to reduce emissions across the economy with “no help from the right or the extreme left”.\\n“Proposals that talk about shutting down the export coal industry instead of focusing on the hard and tough policy which includes reducing emissions across the whole of our economy are entirely counter-productive,” the ALP president will say.\\n“Over the next 20 years there will be a dramatic reduction in coal production delivered by the market, and we will see coal-fired power generation provide less and less of our electricity”.\\n“But the notion put forward by some green groups that we could phase out coal-fired power by 2030 is impossible and a recipe for blackouts and the further erosion of public support for strong economy-wide action on emissions reduction.”\\nSwan will argue Morrison does not have a serious climate policy, and will not develop one, “but as you would expect from a marketing guy, [he has] a clearly articulated PR strategy to use climate as a wedge aimed not just at coal miners but working people more generally and particularly the elderly”.\\nHe will say Morrison’s approach will be to argue he is “the reasonable guy in the middle who says the climate is changing” but do little or nothing about it. “We in the Labor party need to expose this marketing strategy for what it is.\\n“And we need to set against it our hard work on what I simply call solving the bloody problem.”\\nThe Morrison government has blasted Labor for adopting a 2050 target without a roadmap to get there. On Friday the government signalled plans to shift investment from wind and solar to hydrogen, carbon capture and storage, lithium and advanced livestock feed supplements, as part of a “bottom up” strategy to reduce emissions by 2050.\\nThe government will shortly release a technology roadmap outlining its investment strategies, and further policy work is under way. As well as the roadmap, the government is reviewing its much-criticised emissions reduction fund and the operation of the safeguard mechanism, and is working on an electric vehicles strategy, despite blasting Labor during last year’s election, claiming measures to drive the takeup of EVs were a “war on the weekend”.\\nDespite blasting Labor for adopting net zero, the government has not ruled out following suit and adopting a mid-century target. As a signatory to the Paris agreement, the Coalition has implicitly adopted a position of carbon neutrality by mid-century.\\nAlbanese spent Saturday in coal country in New South Wales. In a speech to the country Labor conference, Albanese said net zero meant opportunity for regional Australia, not catastrophe.', 'label': 0}\n"
     ]
    }
   ],
   "source": [
    "json_file_dev = open(\"C:/Users/61416/Desktop/project-files/dev.json\", \"r\", encoding=\"utf-8\")\n",
    "sh_json_dev= json.load(json_file_dev)\n",
    "json_file_dev.close()\n",
    "dic_dev=[]\n",
    "for i in sh_json_dev:\n",
    "    dic_dev.append(sh_json_dev[i])\n",
    "print(dic_dev[3])\n",
    "final_dev=[]\n",
    "label_dev=[]\n",
    "for i in range(len(dic_dev)):\n",
    "    final_dev.append(dic_dev[i][\"text\"])\n",
    "    label_dev.append(dic_dev[i][\"label\"])"
   ]
  },
  {
   "cell_type": "code",
   "execution_count": 21,
   "metadata": {},
   "outputs": [],
   "source": [
    "final_lower_dev=[]\n",
    "for i in final_dev:\n",
    "    final_lower_dev.append(i.lower())"
   ]
  },
  {
   "cell_type": "code",
   "execution_count": 22,
   "metadata": {},
   "outputs": [],
   "source": [
    "import string\n",
    "final_lower_filtered_dev=[]\n",
    "for i in range(len(final_lower_dev)):\n",
    "    a=nltk.word_tokenize(final_lower_dev[i])\n",
    "    words = [word for word in a if word.isalpha()]\n",
    "    st=\" \".join(words)\n",
    "    final_lower_filtered_dev.append(st)"
   ]
  },
  {
   "cell_type": "code",
   "execution_count": 23,
   "metadata": {},
   "outputs": [],
   "source": [
    "import spacy\n",
    "import en_core_web_sm\n",
    "nlp = en_core_web_sm.load()\n",
    "lem_dev=[]\n",
    "for i in final_lower_filtered_dev:\n",
    "    k=[]\n",
    "    sentence7 = nlp(i)\n",
    "    for word in sentence7:\n",
    "        k.append(word.lemma_.lower().strip() if word.lemma_ != \"-PRON-\" else word.lower_)\n",
    "    z=\" \".join(k)\n",
    "    lem_dev.append(z)"
   ]
  },
  {
   "cell_type": "code",
   "execution_count": 24,
   "metadata": {},
   "outputs": [
    {
     "name": "stdout",
     "output_type": "stream",
     "text": [
      "100\n"
     ]
    }
   ],
   "source": [
    "modals = ['can', 'could', 'may', 'might', 'must', 'will', 'would', 'should',\"couldn't\",'could not','occasionally','possibly','perhaps','rarely','sometimes', 'unsure', 'often', 'likely', 'usually' ,'definitely ','regularly' ,'frequent', 'frequently','all'\n",
    ",'enough','many','little','few','several','major','majorly','greatly','great','number','none','No','some','more','most','lots','less','least',\n",
    "'any','plenty','study','shows','show','fears','fear','theory','worse','worst','fails','fail']\n",
    "modals_dev=[]\n",
    "for i in range(len(final_lower_dev)):\n",
    "    count=0\n",
    "    a=nltk.word_tokenize(final_lower_dev[i])\n",
    "    for i in a:\n",
    "        if (i.lower() in modals):\n",
    "            count+=1\n",
    "    modals_dev.append(count)\n",
    "print(len(modals_dev))"
   ]
  },
  {
   "cell_type": "code",
   "execution_count": 25,
   "metadata": {},
   "outputs": [
    {
     "name": "stdout",
     "output_type": "stream",
     "text": [
      "24\n"
     ]
    }
   ],
   "source": [
    "c=[\"climate\",\"weather\",\"fire\",\"floods\",\"temprature\",\"warming\",\"rain\",\"melt\",\"melting\"]\n",
    "climate_dev=[]\n",
    "for i in range(len(final_lower_dev)):\n",
    "    count=0\n",
    "    a=nltk.word_tokenize(final_lower_dev[i])\n",
    "    for i in a:\n",
    "        if (i.lower() in c):\n",
    "            count+=1\n",
    "    climate_dev.append(count)\n",
    "print((climate_dev[0]))"
   ]
  },
  {
   "cell_type": "code",
   "execution_count": 26,
   "metadata": {},
   "outputs": [],
   "source": [
    "c=['?','!','\"']\n",
    "punct_dev=[]\n",
    "for i in range(len(final_lower_dev)):\n",
    "    count=0\n",
    "    a=nltk.word_tokenize(final_lower_dev[i])\n",
    "    for i in a:\n",
    "        if (i.lower() in c):\n",
    "            count+=1\n",
    "    punct_dev.append(count)"
   ]
  },
  {
   "cell_type": "code",
   "execution_count": 27,
   "metadata": {},
   "outputs": [],
   "source": [
    "vector_dev=vectorizer.transform(lem_dev)"
   ]
  },
  {
   "cell_type": "code",
   "execution_count": 28,
   "metadata": {},
   "outputs": [
    {
     "name": "stdout",
     "output_type": "stream",
     "text": [
      "5968\n"
     ]
    }
   ],
   "source": [
    "z1=vector_dev.todense()\n",
    "g1=z1.tolist()\n",
    "print(len(g1[0]))\n",
    "for i in range(len(modals_dev)):\n",
    "    g1[i].append(modals_dev[i])\n",
    "    g1[i].append(climate_dev[i])\n",
    "    g1[i].append(punct_dev[i])"
   ]
  },
  {
   "cell_type": "code",
   "execution_count": 29,
   "metadata": {},
   "outputs": [
    {
     "data": {
      "text/plain": [
       "(100, 5971)"
      ]
     },
     "execution_count": 29,
     "metadata": {},
     "output_type": "execute_result"
    }
   ],
   "source": [
    "import scipy\n",
    "final_vector_dev=scipy.sparse.csr_matrix(g1)\n",
    "final_vector_dev.shape"
   ]
  },
  {
   "cell_type": "markdown",
   "metadata": {},
   "source": [
    "# Predictions and Metrics"
   ]
  },
  {
   "cell_type": "code",
   "execution_count": 30,
   "metadata": {},
   "outputs": [
    {
     "name": "stdout",
     "output_type": "stream",
     "text": [
      "F1 Score: 0.667\n",
      "0.5\n"
     ]
    }
   ],
   "source": [
    "y_pred=clf.predict(final_vector_dev)\n",
    "from sklearn.metrics import f1_score\n",
    "from sklearn.metrics import precision_score\n",
    "score = f1_score(label_dev,y_pred)\n",
    "print('F1 Score: %.3f' % score)\n",
    "print(precision_score(label_dev,y_pred))"
   ]
  },
  {
   "cell_type": "code",
   "execution_count": 31,
   "metadata": {},
   "outputs": [
    {
     "ename": "NameError",
     "evalue": "name 'log' is not defined",
     "output_type": "error",
     "traceback": [
      "\u001b[1;31m---------------------------------------------------------------------------\u001b[0m",
      "\u001b[1;31mNameError\u001b[0m                                 Traceback (most recent call last)",
      "\u001b[1;32m<ipython-input-31-bbdff6968aea>\u001b[0m in \u001b[0;36m<module>\u001b[1;34m\u001b[0m\n\u001b[1;32m----> 1\u001b[1;33m \u001b[0my_pred1\u001b[0m\u001b[1;33m=\u001b[0m\u001b[0mlog\u001b[0m\u001b[1;33m.\u001b[0m\u001b[0mpredict\u001b[0m\u001b[1;33m(\u001b[0m\u001b[0mfinal_vector_dev\u001b[0m\u001b[1;33m)\u001b[0m\u001b[1;33m\u001b[0m\u001b[1;33m\u001b[0m\u001b[0m\n\u001b[0m\u001b[0;32m      2\u001b[0m \u001b[1;32mfrom\u001b[0m \u001b[0msklearn\u001b[0m\u001b[1;33m.\u001b[0m\u001b[0mmetrics\u001b[0m \u001b[1;32mimport\u001b[0m \u001b[0mf1_score\u001b[0m\u001b[1;33m\u001b[0m\u001b[1;33m\u001b[0m\u001b[0m\n\u001b[0;32m      3\u001b[0m \u001b[1;32mfrom\u001b[0m \u001b[0msklearn\u001b[0m\u001b[1;33m.\u001b[0m\u001b[0mmetrics\u001b[0m \u001b[1;32mimport\u001b[0m \u001b[0mprecision_score\u001b[0m\u001b[1;33m\u001b[0m\u001b[1;33m\u001b[0m\u001b[0m\n\u001b[0;32m      4\u001b[0m \u001b[0mscore\u001b[0m \u001b[1;33m=\u001b[0m \u001b[0mf1_score\u001b[0m\u001b[1;33m(\u001b[0m\u001b[0mlabel_dev\u001b[0m\u001b[1;33m,\u001b[0m\u001b[0my_pred1\u001b[0m\u001b[1;33m)\u001b[0m\u001b[1;33m\u001b[0m\u001b[1;33m\u001b[0m\u001b[0m\n\u001b[0;32m      5\u001b[0m \u001b[0mprint\u001b[0m\u001b[1;33m(\u001b[0m\u001b[1;34m'F1 Score: %.3f'\u001b[0m \u001b[1;33m%\u001b[0m \u001b[0mscore\u001b[0m\u001b[1;33m)\u001b[0m\u001b[1;33m\u001b[0m\u001b[1;33m\u001b[0m\u001b[0m\n",
      "\u001b[1;31mNameError\u001b[0m: name 'log' is not defined"
     ]
    }
   ],
   "source": [
    "y_pred1=log.predict(final_vector_dev)\n",
    "from sklearn.metrics import f1_score\n",
    "from sklearn.metrics import precision_score\n",
    "score = f1_score(label_dev,y_pred1)\n",
    "print('F1 Score: %.3f' % score)\n",
    "print(precision_score(label_dev,y_pred1))"
   ]
  },
  {
   "cell_type": "code",
   "execution_count": null,
   "metadata": {},
   "outputs": [],
   "source": [
    "from sklearn.metrics import accuracy_score\n",
    "accuracy_score(label_dev,y_pred)"
   ]
  },
  {
   "cell_type": "code",
   "execution_count": null,
   "metadata": {},
   "outputs": [],
   "source": [
    "from sklearn.metrics import classification_report\n",
    "print(classification_report(label_dev, y_pred, labels=[0,1]))"
   ]
  },
  {
   "cell_type": "code",
   "execution_count": null,
   "metadata": {},
   "outputs": [],
   "source": [
    "from sklearn.metrics import classification_report\n",
    "print(classification_report(label_dev, y_pred1, labels=[0,1]))"
   ]
  },
  {
   "cell_type": "markdown",
   "metadata": {},
   "source": [
    "# Test Set "
   ]
  },
  {
   "cell_type": "code",
   "execution_count": null,
   "metadata": {},
   "outputs": [],
   "source": [
    "json_file_test = open(\"C:/Users/61416/Desktop/project-files/test-unlabelled.json\", \"r\", encoding=\"utf-8\")\n",
    "sh_json_test= json.load(json_file_test)\n",
    "json_file_test.close()\n",
    "dic_test=[]\n",
    "for i in sh_json_test:\n",
    "    dic_test.append(sh_json_test[i])\n",
    "print(dic_test[3])\n",
    "final_test=[]\n",
    "for i in range(len(dic_test)):\n",
    "    final_test.append(dic_test[i][\"text\"])"
   ]
  },
  {
   "cell_type": "code",
   "execution_count": null,
   "metadata": {},
   "outputs": [],
   "source": [
    "final_lower_test=[]\n",
    "for i in final_test:\n",
    "    final_lower_test.append(i.lower())"
   ]
  },
  {
   "cell_type": "code",
   "execution_count": null,
   "metadata": {},
   "outputs": [],
   "source": [
    "import string\n",
    "final_lower_filtered_test=[]\n",
    "for i in range(len(final_lower_test)):\n",
    "    a=nltk.word_tokenize(final_lower_test[i])\n",
    "    words = [word for word in a if word.isalpha()]\n",
    "    st=\" \".join(words)\n",
    "    final_lower_filtered_test.append(st)"
   ]
  },
  {
   "cell_type": "code",
   "execution_count": null,
   "metadata": {},
   "outputs": [],
   "source": [
    "import spacy\n",
    "import en_core_web_sm\n",
    "nlp = en_core_web_sm.load()\n",
    "lem_test=[]\n",
    "for i in final_lower_filtered_test:\n",
    "    k=[]\n",
    "    sentence7 = nlp(i)\n",
    "    for word in sentence7:\n",
    "        k.append(word.lemma_.lower().strip() if word.lemma_ != \"-PRON-\" else word.lower_)\n",
    "    z=\" \".join(k)\n",
    "    lem_test.append(z)"
   ]
  },
  {
   "cell_type": "code",
   "execution_count": null,
   "metadata": {},
   "outputs": [],
   "source": [
    "modals = ['can', 'could', 'may', 'might', 'must', 'will', 'would', 'should',\"couldn't\",'could not','occasionally','possibly','perhaps','rarely','sometimes', 'unsure', 'often', 'likely', 'usually' ,'definitely ','regularly' ,'frequent', 'frequently','all'\n",
    ",'enough','many','little','few','several','major','majorly','greatly','great','number','none','No','some','more','most','lots','less','least',\n",
    "'any','plenty','study','shows','show','fears','fear','theory','worse','worst','fails','fail']\n",
    "modals_test=[]\n",
    "for i in range(len(final_lower_test)):\n",
    "    count=0\n",
    "    a=nltk.word_tokenize(final_lower_test[i])\n",
    "    for i in a:\n",
    "        if (i.lower() in modals):\n",
    "            count+=1\n",
    "    modals_test.append(count)\n",
    "print(len(modals_test))"
   ]
  },
  {
   "cell_type": "code",
   "execution_count": null,
   "metadata": {},
   "outputs": [],
   "source": [
    "c=[\"climate\",\"weather\",\"fire\",\"floods\",\"temprature\",\"warming\",\"rain\",\"melt\",\"melting\"]\n",
    "climate_test=[]\n",
    "for i in range(len(final_lower_test)):\n",
    "    count=0\n",
    "    a=nltk.word_tokenize(final_lower_test[i])\n",
    "    for i in a:\n",
    "        if (i.lower() in c):\n",
    "            count+=1\n",
    "    climate_test.append(count)\n",
    "print((climate_test[0]))"
   ]
  },
  {
   "cell_type": "code",
   "execution_count": null,
   "metadata": {},
   "outputs": [],
   "source": [
    "c=['?','!','\"']\n",
    "punct_test=[]\n",
    "for i in range(len(final_lower_test)):\n",
    "    count=0\n",
    "    a=nltk.word_tokenize(final_lower_test[i])\n",
    "    for i in a:\n",
    "        if (i.lower() in c):\n",
    "            count+=1\n",
    "    punct_test.append(count)"
   ]
  },
  {
   "cell_type": "code",
   "execution_count": null,
   "metadata": {},
   "outputs": [],
   "source": [
    "vector_test=vectorizer.transform(lem_test)"
   ]
  },
  {
   "cell_type": "code",
   "execution_count": null,
   "metadata": {},
   "outputs": [],
   "source": [
    "z2=vector_test.todense()\n",
    "g2=z2.tolist()\n",
    "print(len(g2[0]))\n",
    "for i in range(len(modals_test)):\n",
    "    g2[i].append(modals_test[i])\n",
    "    g2[i].append(climate_test[i])\n",
    "    g2[i].append(punct_test[i])"
   ]
  },
  {
   "cell_type": "code",
   "execution_count": null,
   "metadata": {},
   "outputs": [],
   "source": [
    "import scipy\n",
    "final_vector_test=scipy.sparse.csr_matrix(g2)\n",
    "final_vector_test.shape"
   ]
  },
  {
   "cell_type": "code",
   "execution_count": null,
   "metadata": {},
   "outputs": [],
   "source": [
    "y_pred_test=clf.predict(final_vector_test)"
   ]
  },
  {
   "cell_type": "code",
   "execution_count": null,
   "metadata": {},
   "outputs": [],
   "source": [
    "list1=[]\n",
    "for i in y_pred_test:\n",
    "    list1.append(i)\n",
    "print(list1)\n",
    "list2=[]\n",
    "for i in range(len(sh_json_test)):\n",
    "    final_dic={}\n",
    "    final_dic['label']=int(list1[i])\n",
    "    list2.append(final_dic)\n",
    "g={}\n",
    "for i in range(len(sh_json_test)):\n",
    "    g['test-'+str(i)]=list2[i]\n",
    "print(g)\n",
    "with open(\"test-output.json\", \"w\") as fp:\n",
    "    json.dump(g , fp) "
   ]
  },
  {
   "cell_type": "code",
   "execution_count": null,
   "metadata": {},
   "outputs": [],
   "source": []
  }
 ],
 "metadata": {
  "kernelspec": {
   "display_name": "Python 3",
   "language": "python",
   "name": "python3"
  },
  "language_info": {
   "codemirror_mode": {
    "name": "ipython",
    "version": 3
   },
   "file_extension": ".py",
   "mimetype": "text/x-python",
   "name": "python",
   "nbconvert_exporter": "python",
   "pygments_lexer": "ipython3",
   "version": "3.7.3"
  }
 },
 "nbformat": 4,
 "nbformat_minor": 2
}
